{
  "cells": [
    {
      "attachments": {},
      "cell_type": "markdown",
      "metadata": {
        "id": "KGl64S8Ik5cS"
      },
      "source": [
        "[<img src='https://vermontcomplexsystems.org/index_files/large-526602.png' width=\"180\" height=\"150\" align=\"center\"/>](https://vermontcomplexsystems.org/)\n",
        "\n",
        "\n",
        "**CSYS 303:** Complex Networks\n",
        "\n",
        "**Name:** Patrick L. Harvey\n",
        "\n",
        "**Date:** 20230228\n",
        "\n",
        "**Report:** Available on [Overleaf](https://www.overleaf.com/read/jwptqkrxjbkr) or [GitHub](https://github.com/P-Harvey/WebLaTex/blob/a6ff861fc8e49981e7c4deb5417826cbfd124951/CSYS_303_Complex_Networks/assignment20.tex)\n",
        "\n",
        "****\n",
        "\n",
        "**Description:** This notebook applies [methods](https://arxiv.org/abs/2008.02250) developed by members of the Vermont Complex Systems Center to examine sentiment (e.g. happiness) for a given corpus. The specific corpus examined in this implementation of their methods is *Blood Meridian* authored by Cormac McCarthy and available [here](https://altair.pw/pub/lib/Cormac%20Mccarthy%20-%20The%20Blood%20Meridian.pdf).\n",
        "\n",
        "****\n",
        "\n",
        "**Index**\n",
        "\n",
        "[Setup](#Setup)\n",
        "\n",
        "1. [Imports](##Imports)\n",
        "\n",
        "2. [Functions](##Functions)\n",
        "\n",
        "[Assignment 20](#Assignment_20)\n",
        "\n",
        "1. [Part 1](##Question_1)\n",
        "\n",
        "$\\qquad$ a. [Text Destruction](###Part_a.)\n",
        "\n",
        "$\\qquad$ b. [Time-Series](###Part_b.)\n",
        "\n",
        "$\\qquad$ c. [Lensed Time-Series](###Part_c.)\n",
        "\n",
        "2. [Part 2](##Question_2)\n",
        "\n",
        "$\\qquad$ a. \n",
        "\n",
        "$\\qquad$ b. \n",
        "\n",
        "$\\qquad$ c. \n",
        "\n",
        "$\\qquad$ d. \n",
        "\n",
        "$\\qquad$ e. \n",
        "\n",
        "$\\qquad$ f. \n",
        "\n",
        "4. [Appendices](#Appendices)\n",
        "\n",
        "  $\\qquad$ a. [Hedonometer API](##Hedonometer_API) \n",
        "\n",
        "  $\\qquad$ b. [Citations and References](##Citations_and_References)\n",
        "\n",
        "****"
      ]
    },
    {
      "attachments": {},
      "cell_type": "markdown",
      "metadata": {},
      "source": [
        "# Setup"
      ]
    },
    {
      "attachments": {},
      "cell_type": "markdown",
      "metadata": {},
      "source": [
        "## Imports"
      ]
    },
    {
      "cell_type": "code",
      "execution_count": null,
      "metadata": {},
      "outputs": [],
      "source": [
        "\"\"\" Run the latest and greatest. \"\"\"\n",
        "%pip install -r requirements.txt --upgrade\n",
        "\n",
        "\"\"\" Import them all! \"\"\"\n",
        "import math\n",
        "import matplotlib as mpl\n",
        "import matplotlib.pyplot as plt\n",
        "from nltk import tokenize\n",
        "from nltk.sentiment.vader import SentimentIntensityAnalyzer\n",
        "import numpy as np\n",
        "import pandas as pd\n",
        "import plotly\n",
        "import re\n",
        "import seaborn as sns\n",
        "import string\n",
        "from string import punctuation as punct\n",
        "import sys\n",
        "\n",
        "\"\"\" Sometimes ignorance = bliss. \"\"\"\n",
        "if not sys.warnoptions:\n",
        "    import warnings\n",
        "    warnings.simplefilter(\"ignore\")\n",
        "\n",
        "\"\"\" In case Computer Modern Roman size 10 isn't an option. \"\"\"\n",
        "# mpl.font_manager.findSystemFonts(fontpaths=None, fontext='ttf')\n",
        "\n",
        "\"\"\" Set default font for plots. \"\"\"\n",
        "mpl.rc('font',\n",
        "       family = 'serif',\n",
        "       serif = 'cmr10')\n",
        "\n",
        "source = 'Blood_Meridian_McCarthy.txt'\n",
        "\n",
        "\"\"\" If running in Google Colab. Just don't. \"\"\"\n",
        "def mount_drive():\n",
        "  from google.colab import drive\n",
        "  drive.mount('/content/drive/', force_remount = True)"
      ]
    },
    {
      "attachments": {},
      "cell_type": "markdown",
      "metadata": {},
      "source": [
        "## Functions"
      ]
    },
    {
      "cell_type": "code",
      "execution_count": null,
      "metadata": {},
      "outputs": [],
      "source": [
        "def load_text(f: str = '/content/text.txt',\n",
        "              prnt: bool = True):\n",
        "  with open(f) as txt:\n",
        "    gram_list = re.findall(r\"\\w+[^\\s\\.,?!;]+|\\w+|[\\.,?!;]\",\n",
        "                           ''.join(txt.readlines()))\n",
        "    if prnt:\n",
        "      print(f\"Total n-grams: {len(np.array(gram_list)):>14,}\")\n",
        "  return np.array(gram_list)\n",
        "\n",
        "def get_word_freq(f: str = '/content/text.txt',\n",
        "                  prnt: bool = True):\n",
        "  n_gram_vec = load_text(f)\n",
        "  freq = np.array(np.unique(n_gram_vec, return_counts=True, axis=None))\n",
        "  if prnt:\n",
        "    print(f'Total unique n-grams: {len(np.array(freq[1])):>7,}')\n",
        "  return freq, n_gram_vec\n",
        "\n",
        "def plot_zipf(f: str = '/content/text.txt'):\n",
        "  freq = load_text(f)\n",
        "  plt.scatter(x = np.linspace(len(freq),1,len(freq)), \n",
        "              y = freq,\n",
        "              s = 2,\n",
        "              c = 'k',\n",
        "              alpha = 0.8,\n",
        "              linewidths=0.)\n",
        "  plt.xscale('log')\n",
        "  plt.yscale('log')\n",
        "  plt.suptitle('Blood Meridian by Cormac McCarthy',\n",
        "              fontsize = 16)\n",
        "  plt.title('Rank-Frequency (Zipf) Plot')\n",
        "  plt.xlabel(r'log$_{10}$(Rank)')\n",
        "  plt.ylabel(r'log$_{10}$(Frequency)')\n",
        "  sns.despine()\n",
        "  plt.show()\n",
        "\n",
        "def test_str(n_gram: np.ndarray = None,\n",
        "             prnt: bool = True):\n",
        "  test_str = ' '.join(n_gram)\n",
        "  if prnt:\n",
        "    print(test_str)\n",
        "  elif test_str:\n",
        "    print(\"Non-zero string created.\")\n",
        "  else:\n",
        "    print('You probably messed up. Try again!')"
      ]
    },
    {
      "cell_type": "markdown",
      "metadata": {
        "id": "c0EVvuNdclU3"
      },
      "source": [
        "# Assignment 20"
      ]
    },
    {
      "cell_type": "markdown",
      "metadata": {
        "id": "wwkBiCwFw-MC"
      },
      "source": [
        "## Question 1"
      ]
    },
    {
      "attachments": {},
      "cell_type": "markdown",
      "metadata": {
        "id": "EnZee5omxBeV"
      },
      "source": [
        "****\n",
        "\n",
        "Using the main text you chose at the start of the semester, plot a time-series of happiness as described below using the labMT lexicon definitions of sentiment.\n",
        "\n",
        "The labMT lexicon is referenced in Peter S. Dodds' et. al. 2011 [paper](https://journals.plos.org/plosone/article/file?id=10.1371/journal.pone.0026752&type=printable). \n",
        "\n",
        "The lexicon has been occasionally upgraded to accommodate major changes in language use.\n",
        "\n",
        "****\n",
        "\n",
        "**Notes:**\n",
        "\n",
        "• The horizontal axis is “narrative time” corresponding to 1-grams in the text, running from $1 \\to N$.\n",
        "\n",
        "• The windows should overlap, sliding one word ahead each time This is a simple averaging filter.\n",
        "\n",
        "• Points should be located above the center of each window.\n",
        "\n",
        "• So the point for the window running from $n$ to $n+T −1$ (T words) will be located at $n + (T − 1)/2$.\n",
        "\n",
        "• Do not pre-filter the text for any given lens. Windows will contain variable numbers of words with and without happiness scores.\n",
        "\n",
        "****"
      ]
    },
    {
      "attachments": {},
      "cell_type": "markdown",
      "metadata": {},
      "source": [
        "### Part a."
      ]
    },
    {
      "attachments": {},
      "cell_type": "markdown",
      "metadata": {},
      "source": [
        "****\n",
        "\n",
        "Process (or destroy) your text so that it is a simple text file with one 1-gram per line—a vector of 1-grams.\n",
        "\n",
        "To the extent possible, keep punctuation in as separate 1-grams. Periods, commas, semicolons, em-dashes, ellipses,\n",
        "\n",
        "****"
      ]
    },
    {
      "cell_type": "code",
      "execution_count": 71,
      "metadata": {
        "colab": {
          "base_uri": "https://localhost:8080/"
        },
        "id": "cM3epaQViD6S",
        "outputId": "e5ed40a1-bf33-4fea-b6fa-3c8186e2888e"
      },
      "outputs": [
        {
          "name": "stdout",
          "output_type": "stream",
          "text": [
            "Total n-grams:        126,105\n",
            "Total unique n-grams:  11,302\n"
          ]
        }
      ],
      "source": [
        "wf, ng = get_word_freq(source)"
      ]
    },
    {
      "attachments": {},
      "cell_type": "markdown",
      "metadata": {},
      "source": [
        "### Part b."
      ]
    },
    {
      "attachments": {},
      "cell_type": "markdown",
      "metadata": {
        "id": "gZLwZqgq7vN_"
      },
      "source": [
        "****\n",
        "\n",
        "First, use the full lexical lens provided by labMT.\n",
        "\n",
        "Make a single figure containing a stacked set of 7 plots with text windows of\n",
        "sizes:\n",
        "\n",
        "$T = [10^z]$ for $z = 1, 1.5, 2, 2.5, 3, 3.5,$ and $4.0$.\n",
        "\n",
        "Stacked here means separated and stacked vertically, as opposed to directly\n",
        "overlaid. \n",
        "\n",
        "See examples for Moby Dick at the end of this assignment. \n",
        "\n",
        "The notation [$\\cdot$] implying that we round to the nearest integer.\n",
        "\n",
        "*****"
      ]
    },
    {
      "cell_type": "code",
      "execution_count": 72,
      "metadata": {
        "id": "2K4jn_gw7xXc"
      },
      "outputs": [],
      "source": [
        "ts = load_text(source, False)"
      ]
    },
    {
      "attachments": {},
      "cell_type": "markdown",
      "metadata": {},
      "source": [
        "### Part c."
      ]
    },
    {
      "attachments": {},
      "cell_type": "markdown",
      "metadata": {},
      "source": [
        "****\n",
        "\n",
        "Repeat the above for lenses which exclude the central words around the neutral point.\n",
        "\n",
        "The blocked words are $h_{avg} \\pm \\delta h_{avg}$ where $\\delta h_{avg} = 0.5, 1.0, 1.5, 2.0, 2.5, 3.0,$ and $3.5$.\n",
        "\n",
        "****"
      ]
    },
    {
      "cell_type": "code",
      "execution_count": null,
      "metadata": {},
      "outputs": [],
      "source": []
    },
    {
      "attachments": {},
      "cell_type": "markdown",
      "metadata": {},
      "source": [
        "## Question 2"
      ]
    },
    {
      "cell_type": "markdown",
      "metadata": {},
      "source": [
        "****\n",
        "\n",
        "Using your text of choice,\n",
        "generate word shifts comparing two \"interesting\" regions of text.\n",
        "\n",
        "Use the Python package described [here](https://github.com/ryanjgallagher/shifterator).\n",
        "\n",
        "Various MATLAB versions made by REDACTED do exist and need to shared.\n",
        "\n",
        "Links to paper versions (arXiv is always best), \n",
        "Github repository,\n",
        "and an exhilarating Twitter feed can be found [here](https://pdodds.w3.uvm.edu/research/papers/gallagher2021a/).\n",
        "\n",
        "\"Interesting\" is anything you find interesting.\n",
        "\n",
        "Could be books 3 and 12 in a series;\n",
        "the second half of a book compared to the first half;\n",
        "season 4 of a show versus all seasons;\n",
        "etc.\n",
        "\n",
        "Aim to find two texts that are both reasonably large (more than $10^{4}$ words)\n",
        "and fairly different in average happiness scores.\n",
        "\n",
        "(Though even the same scores can be meaningfully explored with word shifts)\n",
        "\n",
        "Let's call the two texts\n",
        "$T^{(A)}$\n",
        "and\n",
        "$T^{(B)}$.\n",
        "\n",
        "In your plots, you should label them meaningfully based on your choices).\n",
        "\n",
        "Use a reasonable exclusion lens of your choice, e.g., $[4, 6]$ or $[3, 7]$.\n",
        "\n",
        "****"
      ]
    },
    {
      "attachments": {},
      "cell_type": "markdown",
      "metadata": {},
      "source": [
        "### Part a."
      ]
    },
    {
      "cell_type": "code",
      "execution_count": null,
      "metadata": {},
      "outputs": [],
      "source": []
    },
    {
      "attachments": {},
      "cell_type": "markdown",
      "metadata": {},
      "source": [
        "****\n",
        "\n",
        "\n",
        "****"
      ]
    },
    {
      "attachments": {},
      "cell_type": "markdown",
      "metadata": {},
      "source": [
        "### Part b."
      ]
    },
    {
      "cell_type": "code",
      "execution_count": null,
      "metadata": {},
      "outputs": [],
      "source": []
    },
    {
      "cell_type": "markdown",
      "metadata": {},
      "source": [
        "****\n",
        "\n",
        "\n",
        "****"
      ]
    },
    {
      "attachments": {},
      "cell_type": "markdown",
      "metadata": {},
      "source": [
        "### Part c."
      ]
    },
    {
      "cell_type": "markdown",
      "metadata": {},
      "source": [
        "****\n",
        "\n",
        "\n",
        "****"
      ]
    },
    {
      "cell_type": "code",
      "execution_count": null,
      "metadata": {},
      "outputs": [],
      "source": []
    },
    {
      "attachments": {},
      "cell_type": "markdown",
      "metadata": {},
      "source": [
        "### Part d."
      ]
    },
    {
      "cell_type": "markdown",
      "metadata": {},
      "source": [
        "****\n",
        "\n",
        "\n",
        "****"
      ]
    },
    {
      "cell_type": "code",
      "execution_count": null,
      "metadata": {},
      "outputs": [],
      "source": []
    },
    {
      "attachments": {},
      "cell_type": "markdown",
      "metadata": {},
      "source": [
        "### Part e."
      ]
    },
    {
      "cell_type": "code",
      "execution_count": null,
      "metadata": {},
      "outputs": [],
      "source": []
    },
    {
      "cell_type": "markdown",
      "metadata": {},
      "source": [
        "****\n",
        "\n",
        "\n",
        "****"
      ]
    },
    {
      "cell_type": "code",
      "execution_count": null,
      "metadata": {},
      "outputs": [],
      "source": []
    },
    {
      "attachments": {},
      "cell_type": "markdown",
      "metadata": {},
      "source": [
        "### Part f."
      ]
    },
    {
      "cell_type": "markdown",
      "metadata": {},
      "source": [
        "****\n",
        "\n",
        "\n",
        "****"
      ]
    },
    {
      "cell_type": "code",
      "execution_count": null,
      "metadata": {},
      "outputs": [],
      "source": []
    },
    {
      "attachments": {},
      "cell_type": "markdown",
      "metadata": {},
      "source": [
        "# Appendices"
      ]
    },
    {
      "cell_type": "markdown",
      "metadata": {},
      "source": [
        "## Hedonometer API"
      ]
    },
    {
      "cell_type": "code",
      "execution_count": null,
      "metadata": {},
      "outputs": [],
      "source": [
        "\"\"\"\n",
        "API Links:\n",
        "https://hedonometer.org/api/v1/words/?format=json&wordlist__title=labMT-en-v2\n",
        "...\n",
        "...\n",
        "...\n",
        "\"\"\"\n",
        "\n",
        "import requests\n",
        "import pandas as pd\n",
        "import json\n",
        "\n",
        "# TODO: Functionize\n",
        "\n",
        "fmt   = 'json'\n",
        "date  = '2018-01-01'\n",
        "limit = '10000'\n",
        "base = f'http://hedonometer.org/api/v1/events/?format={fmt}&'\n",
        "uri = f'{base}happs__timeseries__title=en_all&'\n",
        "uri = f'{uri}happs__date__gte={date}&limit={limit}'\n",
        "req   = requests.get(uri)\n",
        "happiness_df = pd.DataFrame(json.loads(req.content)['objects'])\n",
        "\n",
        "# TODO: Breakdown into sub DataFrames\n",
        "\n",
        "for i in range(happiness_df.shape[0]):\n",
        "  date = happiness_df['happs'][i]['date']\n",
        "  frequency = happiness_df['happs'][i]['frequency']\n",
        "  happiness = happiness_df['happs'][i]['happiness']\n",
        "  timeseries = happiness_df['happs'][i]['timeseries']"
      ]
    },
    {
      "attachments": {},
      "cell_type": "markdown",
      "metadata": {},
      "source": [
        "## Citations and References"
      ]
    },
    {
      "cell_type": "markdown",
      "metadata": {},
      "source": [
        "```\n",
        "@article{10.1371/journal.pone.0026752,\n",
        "    doi = {10.1371/journal.pone.0026752},\n",
        "    author = {\n",
        "      Dodds, Peter Sheridan \n",
        "      AND Harris, Kameron Decker \n",
        "      AND Kloumann, Isabel M. \n",
        "      AND Bliss, Catherine A. \n",
        "      AND Danforth, Christopher M.\n",
        "    },\n",
        "    journal = {PLOS ONE},\n",
        "    publisher = {Public Library of Science},\n",
        "    title = {\n",
        "      Temporal Patterns of Happiness and Information in a Global Social Network: Hedonometrics and Twitter\n",
        "    },\n",
        "    year = {2011},\n",
        "    month = {12},\n",
        "    volume = {6},\n",
        "    url = {https://doi.org/10.1371/journal.pone.0026752},\n",
        "    pages = {1-1},\n",
        "    abstract = {\n",
        "      Individual happiness is a fundamental societal metric.\n",
        "      Normally measured through self-report, happiness has often \n",
        "      been indirectly characterized and overshadowed by more \n",
        "      readily quantifiable economic indicators such as gross \n",
        "      domestic product. Here, we examine expressions made on the \n",
        "      online, global microblog and social networking service \n",
        "      Twitter, uncovering and explaining temporal variations in \n",
        "      happiness and information levels over timescales ranging \n",
        "      from hours to years. Our data set comprises over 46 billion \n",
        "      words contained in nearly 4.6 billion expressions posted \n",
        "      over a 33 month span by over 63 million unique users. \n",
        "      In measuring happiness, we construct a tunable, real-time, \n",
        "      remote-sensing, and non-invasive, text-based hedonometer. \n",
        "      In building our metric, made available with this paper, \n",
        "      we conducted a survey to obtain happiness evaluations of \n",
        "      over 10,000 individual words, representing a tenfold size \n",
        "      improvement over similar existing word sets. Rather than \n",
        "      being ad hoc, our word list is chosen solely by frequency \n",
        "      of usage, and we show how a highly robust and tunable \n",
        "      metric can be constructed and defended.\n",
        "    },\n",
        "    number = {12}\n",
        "}\n",
        "\n",
        "@Misc{dodds2014a,\n",
        "  author = {\n",
        "    Dodds, P. S.\n",
        "    and Clark, E. M.\n",
        "    and Desu, S.\n",
        "    and Frank, M. R.\n",
        "    and Reagan, A. J.\n",
        "    and  Williams, J. R.\n",
        "    and Mitchell, L.\n",
        "    and Harris, K. D.\n",
        "    and Kloumann, I. M.\n",
        "    and Bagrow, J. P.\n",
        "    and Megerdoomian, K.\n",
        "    and McMahon, M. T.\n",
        "    and Tivnan, B. F.\n",
        "    and Danforth, C. M.\n",
        "  },\n",
        "  title = {\n",
        "    Human language reveals a universal positivity bias\n",
        "  },\n",
        "  OPThowpublished = {},\n",
        "  OPTmonth = \t {},\n",
        "  year = {\n",
        "    2014\n",
        "  },\n",
        "  note = \n",
        "  {\n",
        "    Preprint available at\n",
        "    \\href{http://arxiv.org/abs/1406.3855}{http://arxiv.org/abs/1406.3855}\n",
        "  },\n",
        "  OPTannote = \t {}\n",
        "}\n",
        "```\n",
        "\n",
        "\n",
        "\n",
        "\n",
        "\n",
        "\n",
        "\n",
        "\n",
        "\n",
        "\n"
      ]
    }
  ],
  "metadata": {
    "colab": {
      "provenance": []
    },
    "kernelspec": {
      "display_name": "Python 3 (ipykernel)",
      "language": "python",
      "name": "python3"
    },
    "language_info": {
      "codemirror_mode": {
        "name": "ipython",
        "version": 3
      },
      "file_extension": ".py",
      "mimetype": "text/x-python",
      "name": "python",
      "nbconvert_exporter": "python",
      "pygments_lexer": "ipython3",
      "version": "3.10.4"
    },
    "vscode": {
      "interpreter": {
        "hash": "aee8b7b246df8f9039afb4144a1f6fd8d2ca17a180786b69acc140d282b71a49"
      }
    }
  },
  "nbformat": 4,
  "nbformat_minor": 0
}
