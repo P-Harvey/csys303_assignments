{
  "cells": [
    {
      "attachments": {},
      "cell_type": "markdown",
      "metadata": {
        "id": "KGl64S8Ik5cS"
      },
      "source": [
        "[<img src='https://vermontcomplexsystems.org/index_files/large-526602.png' width=\"180\" height=\"150\" align=\"center\"/>](https://vermontcomplexsystems.org/)\n",
        "\n",
        "\n",
        "**CSYS 300:** Complex Networks\n",
        "\n",
        "**Date:** 20230228\n",
        "\n",
        "**Name:** Patrick L. Harvey\n",
        "\n",
        "**Report:** Available on [Overleaf](https://www.overleaf.com/read/jwptqkrxjbkr)\n",
        "\n",
        "****\n",
        "\n",
        "**Index**\n",
        "\n",
        "1. [Hedonometer API](##Hedonometer_API)\n",
        "\n",
        "  a. [Citations and References](###Citation)\n",
        "\n",
        "  b. [API](###API)\n",
        "\n",
        "2. [Assignment 20](#Assignment_20)\n",
        "\n",
        "  i. [Imports and Functions](##Imports_and_Functions)\n",
        "\n",
        "  a. Part [1](##Question_1)\n",
        "\n",
        "  b. Part [2](##Question_2)\n",
        "\n",
        "  c. Part [3](##Question_3)\n",
        "\n",
        "****\n",
        "\n",
        "**Description:** This notebook applies [methods](https://arxiv.org/abs/2008.02250) developed by members of the Vermont Complex Systems Center to examine sentiment (e.g. happiness) for a given corpus."
      ]
    },
    {
      "cell_type": "markdown",
      "metadata": {
        "id": "vQx8FA5RbACr"
      },
      "source": [
        "## Hedonometer API"
      ]
    },
    {
      "cell_type": "markdown",
      "metadata": {
        "id": "rDl5xkAicgN6"
      },
      "source": [
        "### Citations"
      ]
    },
    {
      "cell_type": "markdown",
      "metadata": {
        "id": "jL_DC1fehBkB"
      },
      "source": [
        "```\n",
        "@article{10.1371/journal.pone.0026752,\n",
        "    doi = {10.1371/journal.pone.0026752},\n",
        "    author = {\n",
        "      Dodds, Peter Sheridan \n",
        "      AND Harris, Kameron Decker \n",
        "      AND Kloumann, Isabel M. \n",
        "      AND Bliss, Catherine A. \n",
        "      AND Danforth, Christopher M.\n",
        "    },\n",
        "    journal = {PLOS ONE},\n",
        "    publisher = {Public Library of Science},\n",
        "    title = {\n",
        "      Temporal Patterns of Happiness and Information in a Global Social Network: Hedonometrics and Twitter\n",
        "    },\n",
        "    year = {2011},\n",
        "    month = {12},\n",
        "    volume = {6},\n",
        "    url = {https://doi.org/10.1371/journal.pone.0026752},\n",
        "    pages = {1-1},\n",
        "    abstract = {\n",
        "      Individual happiness is a fundamental societal metric.\n",
        "      Normally measured through self-report, happiness has often \n",
        "      been indirectly characterized and overshadowed by more \n",
        "      readily quantifiable economic indicators such as gross \n",
        "      domestic product. Here, we examine expressions made on the \n",
        "      online, global microblog and social networking service \n",
        "      Twitter, uncovering and explaining temporal variations in \n",
        "      happiness and information levels over timescales ranging \n",
        "      from hours to years. Our data set comprises over 46 billion \n",
        "      words contained in nearly 4.6 billion expressions posted \n",
        "      over a 33 month span by over 63 million unique users. \n",
        "      In measuring happiness, we construct a tunable, real-time, \n",
        "      remote-sensing, and non-invasive, text-based hedonometer. \n",
        "      In building our metric, made available with this paper, \n",
        "      we conducted a survey to obtain happiness evaluations of \n",
        "      over 10,000 individual words, representing a tenfold size \n",
        "      improvement over similar existing word sets. Rather than \n",
        "      being ad hoc, our word list is chosen solely by frequency \n",
        "      of usage, and we show how a highly robust and tunable \n",
        "      metric can be constructed and defended.\n",
        "    },\n",
        "    number = {12}\n",
        "}\n",
        "\n",
        "@Misc{dodds2014a,\n",
        "  author = {\n",
        "    Dodds, P. S.\n",
        "    and Clark, E. M.\n",
        "    and Desu, S.\n",
        "    and Frank, M. R.\n",
        "    and Reagan, A. J.\n",
        "    and  Williams, J. R.\n",
        "    and Mitchell, L.\n",
        "    and Harris, K. D.\n",
        "    and Kloumann, I. M.\n",
        "    and Bagrow, J. P.\n",
        "    and Megerdoomian, K.\n",
        "    and McMahon, M. T.\n",
        "    and Tivnan, B. F.\n",
        "    and Danforth, C. M.\n",
        "  },\n",
        "  title = {\n",
        "    Human language reveals a universal positivity bias\n",
        "  },\n",
        "  OPThowpublished = {},\n",
        "  OPTmonth = \t {},\n",
        "  year = {\n",
        "    2014\n",
        "  },\n",
        "  note = \n",
        "  {\n",
        "    Preprint available at\n",
        "    \\href{http://arxiv.org/abs/1406.3855}{http://arxiv.org/abs/1406.3855}\n",
        "  },\n",
        "  OPTannote = \t {}\n",
        "}\n",
        "```\n",
        "\n",
        "\n",
        "\n",
        "\n",
        "\n",
        "\n",
        "\n",
        "\n",
        "\n",
        "\n"
      ]
    },
    {
      "cell_type": "markdown",
      "metadata": {
        "id": "X00PAgzxci3a"
      },
      "source": [
        "### API"
      ]
    },
    {
      "cell_type": "code",
      "execution_count": null,
      "metadata": {
        "id": "DZlJICOBgvgA"
      },
      "outputs": [],
      "source": [
        "\"\"\"\n",
        "API Links:\n",
        "https://hedonometer.org/api/v1/words/?format=json&wordlist__title=labMT-en-v2\n",
        "\"\"\"\n",
        "\n",
        "import requests\n",
        "import pandas as pd\n",
        "import json\n",
        "\n",
        "# TODO: Functionize\n",
        "\n",
        "fmt   = 'json'\n",
        "date  = '2018-01-01'\n",
        "limit = '10000'\n",
        "base  = 'http://hedonometer.org/api/v1/events/?format={}&'.format(fmt)\n",
        "uri   = '{}happs__timeseries__title=en_all&'.format(base)\n",
        "uri   = '{}happs__date__gte={}&limit={}'.format(uri, date, limit)\n",
        "req   = requests.get(uri)\n",
        "happiness_df = pd.DataFrame(json.loads(req.content)['objects'])\n",
        "\n",
        "# TODO: Breakdown into sub DataFrames\n",
        "\n",
        "for i in range(happiness_df.shape[0]):\n",
        "  date = happiness_df['happs'][i]['date']\n",
        "  frequency = happiness_df['happs'][i]['frequency']\n",
        "  happiness = happiness_df['happs'][i]['happiness']\n",
        "  timeseries = happiness_df['happs'][i]['timeseries']"
      ]
    },
    {
      "cell_type": "markdown",
      "metadata": {
        "id": "c0EVvuNdclU3"
      },
      "source": [
        "# Assignment 20"
      ]
    },
    {
      "cell_type": "markdown",
      "metadata": {
        "id": "0Ycu5b6a8cW3"
      },
      "source": [
        "## Imports and Functions"
      ]
    },
    {
      "cell_type": "markdown",
      "metadata": {
        "id": "LIM5Hsbu8kiC"
      },
      "source": [
        "Load imports:"
      ]
    },
    {
      "cell_type": "code",
      "execution_count": null,
      "metadata": {
        "id": "mQikC2K38hLS"
      },
      "outputs": [
        {
          "ename": "",
          "evalue": "",
          "output_type": "error",
          "traceback": [
            "\u001b[1;31mFailed to start the Kernel. \n",
            "\u001b[1;31mKernel Python 3.10.6 is not usable. Check the Jupyter output tab for more information. \n",
            "\u001b[1;31mView Jupyter <a href='command:jupyter.viewOutput'>log</a> for further details."
          ]
        }
      ],
      "source": [
        "%pip install -r requirements.txt --upgrade\n",
        "\n",
        "import math\n",
        "import matplotlib\n",
        "import matplotlib.pyplot as plt\n",
        "from nltk import tokenize\n",
        "from nltk.sentiment.vader import SentimentIntensityAnalyzer\n",
        "import numpy as np\n",
        "import pandas as pd\n",
        "import plotly\n",
        "import seaborn as sns\n",
        "import string\n",
        "from string import punctuation as punct\n",
        "import sys\n",
        "if not sys.warnoptions:\n",
        "    import warnings\n",
        "    warnings.simplefilter(\"ignore\")"
      ]
    },
    {
      "attachments": {},
      "cell_type": "markdown",
      "metadata": {
        "id": "Wtz9A97M8h5b"
      },
      "source": [
        "Define Functions:"
      ]
    },
    {
      "cell_type": "code",
      "execution_count": 3,
      "metadata": {
        "colab": {
          "base_uri": "https://localhost:8080/",
          "height": 133
        },
        "id": "naCpd0Rw8a_f",
        "outputId": "a6569b4b-7cd2-42ea-98d9-e2df522da077"
      },
      "outputs": [
        {
          "ename": "NameError",
          "evalue": "name 'punct' is not defined",
          "output_type": "error",
          "traceback": [
            "\u001b[0;31m---------------------------------------------------------------------------\u001b[0m",
            "\u001b[0;31mNameError\u001b[0m                                 Traceback (most recent call last)",
            "\u001b[0;32m/var/folders/g7/vpc5kdj900s7gqc1w9rq6nrh0000gn/T/ipykernel_47700/998766848.py\u001b[0m in \u001b[0;36m<cell line: 10>\u001b[0;34m()\u001b[0m\n\u001b[1;32m      8\u001b[0m   \u001b[0;32mreturn\u001b[0m\u001b[0;34m\u001b[0m\u001b[0;34m\u001b[0m\u001b[0m\n\u001b[1;32m      9\u001b[0m \u001b[0;34m\u001b[0m\u001b[0m\n\u001b[0;32m---> 10\u001b[0;31m \u001b[0mload_text\u001b[0m\u001b[0;34m(\u001b[0m\u001b[0mf\u001b[0m \u001b[0;34m=\u001b[0m \u001b[0;34m'Blood_Meridian_McCarthy.txt'\u001b[0m\u001b[0;34m)\u001b[0m\u001b[0;34m\u001b[0m\u001b[0;34m\u001b[0m\u001b[0m\n\u001b[0m\u001b[1;32m     11\u001b[0m \u001b[0;34m\u001b[0m\u001b[0m\n\u001b[1;32m     12\u001b[0m \u001b[0;31m# sentences = [\"VADER is smart, handsome, and funny.\", # positive sentence example\u001b[0m\u001b[0;34m\u001b[0m\u001b[0;34m\u001b[0m\u001b[0m\n",
            "\u001b[0;32m/var/folders/g7/vpc5kdj900s7gqc1w9rq6nrh0000gn/T/ipykernel_47700/998766848.py\u001b[0m in \u001b[0;36mload_text\u001b[0;34m(f)\u001b[0m\n\u001b[1;32m      5\u001b[0m   \u001b[0;32mwith\u001b[0m \u001b[0mopen\u001b[0m\u001b[0;34m(\u001b[0m\u001b[0mf\u001b[0m\u001b[0;34m)\u001b[0m \u001b[0;32mas\u001b[0m \u001b[0mtxt\u001b[0m\u001b[0;34m:\u001b[0m\u001b[0;34m\u001b[0m\u001b[0;34m\u001b[0m\u001b[0m\n\u001b[1;32m      6\u001b[0m     \u001b[0min_str\u001b[0m \u001b[0;34m=\u001b[0m \u001b[0mtxt\u001b[0m\u001b[0;34m.\u001b[0m\u001b[0mreadlines\u001b[0m\u001b[0;34m(\u001b[0m\u001b[0;34m)\u001b[0m\u001b[0;34m\u001b[0m\u001b[0;34m\u001b[0m\u001b[0m\n\u001b[0;32m----> 7\u001b[0;31m   \u001b[0mless_punct\u001b[0m \u001b[0;34m=\u001b[0m \u001b[0;34m''\u001b[0m\u001b[0;34m.\u001b[0m\u001b[0mjoin\u001b[0m\u001b[0;34m(\u001b[0m\u001b[0mchar\u001b[0m \u001b[0;32mfor\u001b[0m \u001b[0mchar\u001b[0m \u001b[0;32min\u001b[0m \u001b[0min_str\u001b[0m \u001b[0;32mif\u001b[0m \u001b[0mchar\u001b[0m \u001b[0;32mnot\u001b[0m \u001b[0;32min\u001b[0m \u001b[0mset\u001b[0m\u001b[0;34m(\u001b[0m\u001b[0mpunct\u001b[0m\u001b[0;34m)\u001b[0m\u001b[0;34m)\u001b[0m\u001b[0;34m\u001b[0m\u001b[0;34m\u001b[0m\u001b[0m\n\u001b[0m\u001b[1;32m      8\u001b[0m   \u001b[0;32mreturn\u001b[0m\u001b[0;34m\u001b[0m\u001b[0;34m\u001b[0m\u001b[0m\n\u001b[1;32m      9\u001b[0m \u001b[0;34m\u001b[0m\u001b[0m\n",
            "\u001b[0;32m/var/folders/g7/vpc5kdj900s7gqc1w9rq6nrh0000gn/T/ipykernel_47700/998766848.py\u001b[0m in \u001b[0;36m<genexpr>\u001b[0;34m(.0)\u001b[0m\n\u001b[1;32m      5\u001b[0m   \u001b[0;32mwith\u001b[0m \u001b[0mopen\u001b[0m\u001b[0;34m(\u001b[0m\u001b[0mf\u001b[0m\u001b[0;34m)\u001b[0m \u001b[0;32mas\u001b[0m \u001b[0mtxt\u001b[0m\u001b[0;34m:\u001b[0m\u001b[0;34m\u001b[0m\u001b[0;34m\u001b[0m\u001b[0m\n\u001b[1;32m      6\u001b[0m     \u001b[0min_str\u001b[0m \u001b[0;34m=\u001b[0m \u001b[0mtxt\u001b[0m\u001b[0;34m.\u001b[0m\u001b[0mreadlines\u001b[0m\u001b[0;34m(\u001b[0m\u001b[0;34m)\u001b[0m\u001b[0;34m\u001b[0m\u001b[0;34m\u001b[0m\u001b[0m\n\u001b[0;32m----> 7\u001b[0;31m   \u001b[0mless_punct\u001b[0m \u001b[0;34m=\u001b[0m \u001b[0;34m''\u001b[0m\u001b[0;34m.\u001b[0m\u001b[0mjoin\u001b[0m\u001b[0;34m(\u001b[0m\u001b[0mchar\u001b[0m \u001b[0;32mfor\u001b[0m \u001b[0mchar\u001b[0m \u001b[0;32min\u001b[0m \u001b[0min_str\u001b[0m \u001b[0;32mif\u001b[0m \u001b[0mchar\u001b[0m \u001b[0;32mnot\u001b[0m \u001b[0;32min\u001b[0m \u001b[0mset\u001b[0m\u001b[0;34m(\u001b[0m\u001b[0mpunct\u001b[0m\u001b[0;34m)\u001b[0m\u001b[0;34m)\u001b[0m\u001b[0;34m\u001b[0m\u001b[0;34m\u001b[0m\u001b[0m\n\u001b[0m\u001b[1;32m      8\u001b[0m   \u001b[0;32mreturn\u001b[0m\u001b[0;34m\u001b[0m\u001b[0;34m\u001b[0m\u001b[0m\n\u001b[1;32m      9\u001b[0m \u001b[0;34m\u001b[0m\u001b[0m\n",
            "\u001b[0;31mNameError\u001b[0m: name 'punct' is not defined"
          ]
        }
      ],
      "source": [
        "def mount_drive():\n",
        "  from google.colab import drive\n",
        "  drive.mount('/content/drive/', force_remount = True)\n",
        "\n",
        "def load_text(f: str = '/content/text.txt'):\n",
        "  with open(f) as txt:\n",
        "    in_str = txt.readlines()\n",
        "  less_punct = ''.join(char for char in in_str if char not in set(punct))\n",
        "  return\n",
        "\n",
        "load_text(f = 'Blood_Meridian_McCarthy.txt')\n",
        "\n",
        "# sentences = [\"VADER is smart, handsome, and funny.\", # positive sentence example\n",
        "#     \"VADER is smart, handsome, and funny!\", # punctuation emphasis handled correctly (sentiment intensity adjusted)\n",
        "#     \"VADER is very smart, handsome, and funny.\",  # booster words handled correctly (sentiment intensity adjusted)\n",
        "#     \"VADER is VERY SMART, handsome, and FUNNY.\",  # emphasis for ALLCAPS handled\n",
        "#     \"VADER is VERY SMART, handsome, and FUNNY!!!\",# combination of signals - VADER appropriately adjusts intensity\n",
        "#     \"VADER is VERY SMART, really handsome, and INCREDIBLY FUNNY!!!\",# booster words & punctuation make this close to ceiling for score\n",
        "#     \"The book was good.\",         # positive sentence\n",
        "#     \"The book was kind of good.\", # qualified positive sentence is handled correctly (intensity adjusted)\n",
        "#     \"The plot was good, but the characters are uncompelling and the dialog is not great.\", # mixed negation sentence\n",
        "#     \"A really bad, horrible book.\",       # negative sentence with booster words\n",
        "#     \"At least it isn't a horrible book.\", # negated negative sentence with contraction\n",
        "#     \":) and :D\",     # emoticons handled\n",
        "#     \"\",              # an empty string is correctly handled\n",
        "#     \"Today sux\",     #  negative slang handled\n",
        "#     \"Today sux!\",    #  negative slang with punctuation emphasis handled\n",
        "#     \"Today SUX!\",    #  negative slang with capitalization emphasis\n",
        "#     \"Today kinda sux! But I'll get by, lol\" # mixed sentiment example with slang and constrastive conjunction \"but\"\n",
        "#  ]\n",
        "# paragraph = \"It was one of the worst movies I've seen, despite good reviews. \\\n",
        "#  Unbelievably bad acting!! Poor direction. VERY poor production. \\\n",
        "#  The movie was bad. Very bad movie. VERY bad movie. VERY BAD movie. VERY BAD movie!\"\n",
        "\n",
        "# lines_list = tokenize.sent_tokenize(paragraph)\n",
        "# sentences.extend(lines_list)\n",
        "# tricky_sentences = [\n",
        "#     \"Most automated sentiment analysis tools are shit.\",\n",
        "#     \"VADER sentiment analysis is the shit.\",\n",
        "#     \"Sentiment analysis has never been good.\",\n",
        "#     \"Sentiment analysis with VADER has never been this good.\",\n",
        "#     \"Warren Beatty has never been so entertaining.\",\n",
        "#     \"I won't say that the movie is astounding and I wouldn't claim that \\\n",
        "#     the movie is too banal either.\",\n",
        "#     \"I like to hate Michael Bay films, but I couldn't fault this one\",\n",
        "#     \"I like to hate Michael Bay films, BUT I couldn't help but fault this one\",\n",
        "#     \"It's one thing to watch an Uwe Boll film, but another thing entirely \\\n",
        "#     to pay for it\",\n",
        "#     \"The movie was too good\",\n",
        "#     \"This movie was actually neither that funny, nor super witty.\",\n",
        "#     \"This movie doesn't care about cleverness, wit or any other kind of \\\n",
        "#     intelligent humor.\",\n",
        "#     \"Those who find ugly meanings in beautiful things are corrupt without \\\n",
        "#     being charming.\",\n",
        "#     \"There are slow and repetitive parts, BUT it has just enough spice to \\\n",
        "#     keep it interesting.\",\n",
        "#     \"The script is not fantastic, but the acting is decent and the cinematography \\\n",
        "#     is EXCELLENT!\",\n",
        "#     \"Roger Dodger is one of the most compelling variations on this theme.\",\n",
        "#     \"Roger Dodger is one of the least compelling variations on this theme.\",\n",
        "#     \"Roger Dodger is at least compelling as a variation on the theme.\",\n",
        "#     \"they fall in love with the product\",\n",
        "#     \"but then it breaks\",\n",
        "#     \"usually around the time the 90 day warranty expires\",\n",
        "#     \"the twin towers collapsed today\",\n",
        "#     \"However, Mr. Carter solemnly argues, his client carried out the kidnapping \\\n",
        "#     under orders and in the ''least offensive way possible.''\"\n",
        "#  ]\n",
        "# sentences.extend(tricky_sentences)\n",
        "# for sentence in sentences:\n",
        "#      sid = SentimentIntensityAnalyzer()\n",
        "#      print(sentence)\n",
        "#      ss = sid.polarity_scores(sentence)\n",
        "#      for k in sorted(ss):\n",
        "#          print('{0}: {1}, '.format(k, ss[k]), end='')"
      ]
    },
    {
      "cell_type": "markdown",
      "metadata": {
        "id": "wwkBiCwFw-MC"
      },
      "source": [
        "## Question 1"
      ]
    },
    {
      "cell_type": "markdown",
      "metadata": {
        "id": "EnZee5omxBeV"
      },
      "source": [
        "Using the main text you chose at the start of the semester, plot a time-series of happiness as described below using the labMT lexicon definitions of sentiment.\n",
        "\n",
        "The labMT lexicon is referenced in ([Dodds](https://journals.plos.org/plosone/article/file?id=10.1371/journal.pone.0026752&type=printable)) originally published in 2011. \n",
        "\n",
        "The lexicon has been occasionally upgraded to accommodate major changes in language use.\n",
        "****\n",
        "\n",
        "**Notes:**\n",
        "\n",
        "• The horizontal axis is “narrative time” corresponding to 1-grams in the text, running from $1 \\to N$.\n",
        "\n",
        "• The windows should overlap, sliding one word ahead each time This is a simple averaging filter.\n",
        "\n",
        "• Points should be located above the center of each window.\n",
        "\n",
        "• So the point for the window running from $n$ to $n+T −1$ (T words) will be located at $n + (T − 1)/2$.\n",
        "\n",
        "• Do not pre-filter the text for any given lens. Windows will contain variable numbers of words with and without happiness scores.\n",
        "****\n",
        "\n",
        "**Part a.**\n",
        "\n",
        "Process (or destroy) your text so that it is a simple text file with one 1-gram per line—a vector of 1-grams.\n",
        "\n",
        "To the extent possible, keep punctuation in as separate 1-grams. Periods, commas, semicolons, em-dashes, ellipses,\n",
        "****"
      ]
    },
    {
      "cell_type": "code",
      "execution_count": 3,
      "metadata": {
        "colab": {
          "base_uri": "https://localhost:8080/"
        },
        "id": "cM3epaQViD6S",
        "outputId": "e5ed40a1-bf33-4fea-b6fa-3c8186e2888e"
      },
      "outputs": [
        {
          "name": "stdout",
          "output_type": "stream",
          "text": [
            "Mounted at /content/drive/\n"
          ]
        }
      ],
      "source": [
        "from google.colab import drive\n",
        "drive.mount('/content/drive/', force_remount = True)"
      ]
    },
    {
      "cell_type": "markdown",
      "metadata": {
        "id": "gZLwZqgq7vN_"
      },
      "source": [
        "****\n",
        "**Part b.**\n",
        "\n",
        "First, use the full lexical lens provided by labMT.\n",
        "\n",
        "Make a single figure containing a stacked set of 7 plots with text windows of\n",
        "sizes:\n",
        "\n",
        "$T = [10^z]$ for $z = 1, 1.5, 2, 2.5, 3, 3.5,$ and $4.0$.\n",
        "\n",
        "Stacked here means separated and stacked vertically, as opposed to directly\n",
        "overlaid. \n",
        "\n",
        "See examples for Moby Dick at the end of this assignment. \n",
        "\n",
        "The notation [$\\cdot$] implying that we round to the nearest integer.\n",
        "*****"
      ]
    },
    {
      "cell_type": "code",
      "execution_count": null,
      "metadata": {
        "id": "2K4jn_gw7xXc"
      },
      "outputs": [],
      "source": []
    },
    {
      "cell_type": "markdown",
      "metadata": {
        "id": "ooxhNNKV7xmv"
      },
      "source": [
        "****\n",
        "**Part c.** \n",
        "\n",
        "Repeat the above for lenses which exclude the central words around the neutral point.\n",
        "\n",
        "The blocked words are $h_{avg} \\pm \\delta h_{avg}$ where $\\delta h_{avg} = 0.5, 1.0, 1.5, 2.0, 2.5, 3.0,$ and $3.5$.\n",
        "****"
      ]
    }
  ],
  "metadata": {
    "colab": {
      "provenance": []
    },
    "kernelspec": {
      "display_name": "Python 3",
      "language": "python",
      "name": "python3"
    },
    "language_info": {
      "name": "python",
      "version": "3.10.6"
    },
    "vscode": {
      "interpreter": {
        "hash": "aee8b7b246df8f9039afb4144a1f6fd8d2ca17a180786b69acc140d282b71a49"
      }
    }
  },
  "nbformat": 4,
  "nbformat_minor": 0
}
