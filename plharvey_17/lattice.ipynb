{
 "cells": [
  {
   "cell_type": "code",
   "execution_count": null,
   "metadata": {},
   "outputs": [
    {
     "ename": "",
     "evalue": "",
     "output_type": "error",
     "traceback": [
      "\u001b[1;31mFailed to start the Kernel. \n",
      "\u001b[1;31mKernel Python 3.10.6 is not usable. Check the Jupyter output tab for more information. \n",
      "\u001b[1;31mView Jupyter <a href='command:jupyter.viewOutput'>log</a> for further details."
     ]
    }
   ],
   "source": [
    "import itertools\n",
    "import numpy as np\n",
    "from scipy.stats import norm\n",
    "\n",
    "a = np.zeros((8,8))\n",
    "for i, j in itertools.product(range(8), range(8)):\n",
    "    uvw = norm.rvs(size = 3)\n",
    "    for k in uvw:\n",
    "        uvw[k] = 0 if k < 0.5 else 1\n",
    "    r = [uvw[0]*a[i,j],  uvw[1]*a[i,j], uvw[2]*a[i,j]]\n",
    "\n"
   ]
  },
  {
   "attachments": {},
   "cell_type": "markdown",
   "metadata": {},
   "source": [
    "import plotly\n",
    "from pyxtal.lattice import Lattice\n",
    "\n",
    "Lattice(type = 'hexagonal',\n",
    "        volume = 8,\n",
    "        matrix = np.full(shape = (8,8),\n",
    "                         fill_value = ),\n",
    "        PBC = [1,1,1],\n",
    "        **kwargs)"
   ]
  }
 ],
 "metadata": {
  "kernelspec": {
   "display_name": "Python 3",
   "language": "python",
   "name": "python3"
  },
  "language_info": {
   "name": "python",
   "version": "3.10.6"
  },
  "orig_nbformat": 4,
  "vscode": {
   "interpreter": {
    "hash": "aee8b7b246df8f9039afb4144a1f6fd8d2ca17a180786b69acc140d282b71a49"
   }
  }
 },
 "nbformat": 4,
 "nbformat_minor": 2
}
