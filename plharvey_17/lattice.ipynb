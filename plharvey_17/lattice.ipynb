{
 "cells": [
  {
   "cell_type": "code",
   "execution_count": null,
   "metadata": {},
   "outputs": [],
   "source": [
    "%pip install --upgrade pip\n",
    "%pip install -r requirements.txt --upgrade"
   ]
  },
  {
   "cell_type": "code",
   "execution_count": 13,
   "metadata": {},
   "outputs": [],
   "source": [
    "import numpy as np\n",
    "\n",
    "def build_lattice(n: int = None, p: float = None):\n",
    "    if n is None or p is None:\n",
    "        rng = np.random.default_rng()  \n",
    "        n = 1\n",
    "        p = 0.5\n",
    "    x_0 = [0]\n",
    "    x_1 = [0]\n",
    "    left = [x_0.append(i) for i in range(n)]\n",
    "    down = [x_1.append(i) for i in range(n)]\n",
    "    M = np.zeros_like((left,down))\n",
    "    for i in range(n-1):\n",
    "        col = left[i+1] \n",
    "            # % 2 == 0:\n",
    "            # good = 1\n",
    "        row = down[i]\n",
    "        \n",
    "    y_0 = (2 * n + (n + 1))\n",
    "    return np.array([x_0, y_0])\n"
   ]
  },
  {
   "cell_type": "code",
   "execution_count": 14,
   "metadata": {},
   "outputs": [
    {
     "name": "stderr",
     "output_type": "stream",
     "text": [
      "/Users/patrick/Library/Python/3.7/lib/python/site-packages/ipykernel_launcher.py:19: VisibleDeprecationWarning: Creating an ndarray from ragged nested sequences (which is a list-or-tuple of lists-or-tuples-or ndarrays with different lengths or shapes) is deprecated. If you meant to do this, you must specify 'dtype=object' when creating the ndarray.\n"
     ]
    },
    {
     "data": {
      "text/plain": [
       "array([list([0, 0, 1, 2, 3, 4, 5, 6, 7]), 25], dtype=object)"
      ]
     },
     "execution_count": 14,
     "metadata": {},
     "output_type": "execute_result"
    }
   ],
   "source": [
    "build_lattice(8, 0.5)"
   ]
  }
 ],
 "metadata": {
  "kernelspec": {
   "display_name": "Python 3 (ipykernel)",
   "language": "python",
   "name": "python3"
  },
  "language_info": {
   "codemirror_mode": {
    "name": "ipython",
    "version": 3
   },
   "file_extension": ".py",
   "mimetype": "text/x-python",
   "name": "python",
   "nbconvert_exporter": "python",
   "pygments_lexer": "ipython3",
   "version": "3.7.0"
  },
  "orig_nbformat": 4,
  "vscode": {
   "interpreter": {
    "hash": "aee8b7b246df8f9039afb4144a1f6fd8d2ca17a180786b69acc140d282b71a49"
   }
  }
 },
 "nbformat": 4,
 "nbformat_minor": 2
}
