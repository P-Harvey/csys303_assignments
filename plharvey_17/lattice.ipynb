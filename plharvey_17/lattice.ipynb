{
 "cells": [
  {
   "cell_type": "code",
   "execution_count": null,
   "metadata": {},
   "outputs": [],
   "source": [
    "import numpy as np\n",
    "\n",
    "def build_lattice(n: int = None, p: float = None):\n",
    "    if n == None or p == None:\n",
    "        rng: Generator = np.random.default_rng()  \n",
    "        n: Literal[1] = 1 #@param {type:slider, min:1, max:100, step:1}\n",
    "        p: Literal[1] = 0.5 #@param {type:slider, min:0, max:1, step:0.0001}\n",
    "    from numpy import random.Generator.binomial() as gen_fun()\n",
    "    x_0 = [0]\n",
    "    x_1 = [0]\n",
    "    left = [x_0.append(i) for i in range(n)] \n",
    "    down = [x_1.append(i) for i in range(n)]\n",
    "    M = np.zeros_like((left,down))\n",
    "    for i in range(n):\n",
    "        col = left[i+1] \n",
    "            # % 2 == 0:\n",
    "            # good = 1\n",
    "        row = down[i]\n",
    "        M[]\n",
    "    y_0 = (2 * n + (n + 1))\n",
    "    row = np.array([x_0, x_1])\n",
    "\n"
   ]
  },
  {
   "cell_type": "code",
   "execution_count": null,
   "metadata": {},
   "outputs": [],
   "source": []
  }
 ],
 "metadata": {
  "kernelspec": {
   "display_name": "Python 3",
   "language": "python",
   "name": "python3"
  },
  "language_info": {
   "name": "python",
   "version": "3.10.6"
  },
  "orig_nbformat": 4,
  "vscode": {
   "interpreter": {
    "hash": "aee8b7b246df8f9039afb4144a1f6fd8d2ca17a180786b69acc140d282b71a49"
   }
  }
 },
 "nbformat": 4,
 "nbformat_minor": 2
}
